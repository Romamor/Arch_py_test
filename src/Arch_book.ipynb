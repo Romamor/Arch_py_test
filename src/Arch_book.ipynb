{
 "cells": [
  {
   "cell_type": "code",
   "execution_count": null,
   "metadata": {},
   "outputs": [],
   "source": [
    "from archicad import ACConnection\n",
    "\n",
    "conn = ACConnection.connect()\n",
    "assert conn\n",
    "\n",
    "acc = conn.commands\n",
    "act = conn.types\n",
    "acu = conn.utilities"
   ]
  },
  {
   "cell_type": "code",
   "execution_count": null,
   "metadata": {},
   "outputs": [],
   "source": []
  },
  {
   "cell_type": "code",
   "execution_count": null,
   "metadata": {},
   "outputs": [],
   "source": []
  }
 ],
 "metadata": {
  "kernelspec": {
   "display_name": "Python 3.8.6 64-bit",
   "language": "python",
   "name": "python3"
  },
  "language_info": {
   "codemirror_mode": {
    "name": "ipython",
    "version": 3
   },
   "file_extension": ".py",
   "mimetype": "text/x-python",
   "name": "python",
   "nbconvert_exporter": "python",
   "pygments_lexer": "ipython3",
   "version": "3.8.6"
  },
  "orig_nbformat": 4,
  "vscode": {
   "interpreter": {
    "hash": "12d2ff90a362811488003bf752ed3ac7206bdf473e7da8d79afb68093ad2656d"
   }
  }
 },
 "nbformat": 4,
 "nbformat_minor": 2
}
